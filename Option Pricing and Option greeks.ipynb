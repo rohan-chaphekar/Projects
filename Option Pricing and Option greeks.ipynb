{
 "cells": [
  {
   "cell_type": "code",
   "execution_count": 1,
   "metadata": {},
   "outputs": [],
   "source": [
    "import numpy as np\n",
    "import pandas as pd\n",
    "from pandas_datareader import data as wb\n",
    "from scipy.stats import norm\n",
    "import yfinance as yf"
   ]
  },
  {
   "cell_type": "code",
   "execution_count": 2,
   "metadata": {},
   "outputs": [],
   "source": [
    "def d1(S, K, r, std, T):\n",
    "    return (np.log(S / K) + (r + std ** 2 / 2) * T) / (std * np.sqrt(T))\n",
    " \n",
    "def d2(S, K, r, std, T):\n",
    "    return (np.log(S / K) + (r - std ** 2 / 2) * T) / (std * np.sqrt(T))"
   ]
  },
  {
   "cell_type": "code",
   "execution_count": 3,
   "metadata": {},
   "outputs": [],
   "source": [
    "def BSMC(S, K, r, std, T):\n",
    "    return (S * norm.cdf(d1(S, K, r, std, T))) - (K * np.exp(-r * T) * norm.cdf(d2(S, K, r, std, T)))\n",
    "\n",
    "def BSMP(S,K,r,std,T):\n",
    "    return ((K * np.exp(-r * T) * norm.cdf(-(d2(S, K, r, std, T)))) - (S * norm.cdf(-(d1(S, K, r, std, T)))))"
   ]
  },
  {
   "cell_type": "code",
   "execution_count": 4,
   "metadata": {},
   "outputs": [
    {
     "name": "stdout",
     "output_type": "stream",
     "text": [
      "Enter stock price 100\n",
      "Enter Strike Price 105\n",
      "Enter Risk free rate 0.025\n",
      "Enter volatality 0.2\n",
      "Enter time period in years 0.5\n",
      " Price of call is  4.081190952486175\n",
      " Price of put is  7.776860004343725\n"
     ]
    }
   ],
   "source": [
    "S = float(input(\"Enter stock price \"))\n",
    "K = float(input(\"Enter Strike Price \"))\n",
    "r = float(input(\"Enter Risk free rate \"))\n",
    "std = float(input(\"Enter volatality \"))\n",
    "T = float(input(\"Enter time period in years \"))\n",
    "print(\" Price of call is \", BSMC(S,K,r,std,T))\n",
    "print(\" Price of put is \", BSMP(S,K,r,std,T))"
   ]
  },
  {
   "cell_type": "code",
   "execution_count": 5,
   "metadata": {},
   "outputs": [
    {
     "name": "stdout",
     "output_type": "stream",
     "text": [
      "             Call                   Put\n",
      "Delta  0.4262617739694182 -0.5737382260305818\n",
      "Vega  27.726225776118078\n",
      "Gamma  0.027726225776118076\n",
      "Theta  -6.508869816335006 -3.9164780900385674\n",
      "Rho  19.272493222227823 -32.57534130370095\n"
     ]
    }
   ],
   "source": [
    "print(\"             Call                   Put\")\n",
    "print(\"Delta \", norm.cdf(d1(S,K,r,std,T)),  (norm.cdf(d1(S,K,r,std,T)) - 1))\n",
    "print(\"Vega \", np.sqrt(T) * S * norm.pdf(d1(S,K,r,std,T)))\n",
    "print(\"Gamma \", norm.pdf(d1(S,K,r,std,T))/(S*std*np.sqrt(T)))\n",
    "print(\"Theta \", -S*std*norm.pdf(d1(S,K,r,std,T))/(2*np.sqrt(T))-(r*K*np.exp(-r*T))*norm.cdf(d2(S,K,r,std,T)), (-S*std*norm.pdf(d1(S,K,r,std,T))/(2*np.sqrt(T)))+((r*K*np.exp(-r*T))*norm.cdf(-(d2(S,K,r,std,T)))))\n",
    "print(\"Rho \", K*T*np.exp(-r*T)*norm.cdf(d2(S,K,r,std,T)), -K*T*np.exp(-r*T)*norm.cdf(-(d2(S,K,r,std,T))))"
   ]
  },
  {
   "cell_type": "code",
   "execution_count": null,
   "metadata": {},
   "outputs": [],
   "source": []
  }
 ],
 "metadata": {
  "kernelspec": {
   "display_name": "Python 3 (ipykernel)",
   "language": "python",
   "name": "python3"
  },
  "language_info": {
   "codemirror_mode": {
    "name": "ipython",
    "version": 3
   },
   "file_extension": ".py",
   "mimetype": "text/x-python",
   "name": "python",
   "nbconvert_exporter": "python",
   "pygments_lexer": "ipython3",
   "version": "3.9.12"
  }
 },
 "nbformat": 4,
 "nbformat_minor": 2
}
